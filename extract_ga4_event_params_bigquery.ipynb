{
  "nbformat": 4,
  "nbformat_minor": 0,
  "metadata": {
    "colab": {
      "provenance": [],
      "authorship_tag": "ABX9TyNeBGUiPCSPjBoG40ylQkW7",
      "include_colab_link": true
    },
    "kernelspec": {
      "name": "python3",
      "display_name": "Python 3"
    },
    "language_info": {
      "name": "python"
    }
  },
  "cells": [
    {
      "cell_type": "markdown",
      "metadata": {
        "id": "view-in-github",
        "colab_type": "text"
      },
      "source": [
        "<a href=\"https://colab.research.google.com/github/dgitis/dbt-GA4-workshop/blob/main/extract_ga4_event_params_bigquery.ipynb\" target=\"_parent\"><img src=\"https://colab.research.google.com/assets/colab-badge.svg\" alt=\"Open In Colab\"/></a>"
      ]
    },
    {
      "cell_type": "code",
      "source": [
        "# Variables\n",
        "\n",
        "source_project = ''\n",
        "source_dataset = ''\n",
        "source_table = ''\n",
        "\n",
        "# In what percentage of events does an event parameter need to be found to be\n",
        "# considered a universal event parameter. In other words, what parameters should\n",
        "# be configured for all events.\n",
        "threshold = 0.5"
      ],
      "metadata": {
        "id": "2nfjNrwm4HBc"
      },
      "execution_count": 23,
      "outputs": []
    },
    {
      "cell_type": "code",
      "execution_count": 24,
      "metadata": {
        "colab": {
          "base_uri": "https://localhost:8080/"
        },
        "id": "QcZZ3I5M3y1I",
        "outputId": "f6921364-f9cb-4045-f7db-b890c78a52c7"
      },
      "outputs": [
        {
          "output_type": "stream",
          "name": "stdout",
          "text": [
            "Authenticated\n",
            "The google.colab.data_table extension is already loaded. To reload it, use:\n",
            "  %reload_ext google.colab.data_table\n"
          ]
        }
      ],
      "source": [
        "from google.colab import auth\n",
        "auth.authenticate_user()\n",
        "print('Authenticated')\n",
        "%load_ext google.colab.data_table"
      ]
    },
    {
      "cell_type": "code",
      "source": [
        "from google.cloud import bigquery\n",
        "\n",
        "client = bigquery.Client(project=source_project)\n",
        "\n",
        "events = client.query('''\n",
        "  select distinct\n",
        "    event_name\n",
        "  from {sp}.{sd}.{st} '''.format(sp=source_project, sd=source_dataset, st=source_table) ).result()\n",
        "\n",
        "event_list=[]\n",
        "for event in events:\n",
        "  event_list.append(event[0])\n",
        "event_list"
      ],
      "metadata": {
        "colab": {
          "base_uri": "https://localhost:8080/"
        },
        "id": "oJHZ0rFv3_zB",
        "outputId": "884bb2bf-95fb-49b5-f8dd-1274aef2614f"
      },
      "execution_count": 27,
      "outputs": [
        {
          "output_type": "execute_result",
          "data": {
            "text/plain": [
              "['first_visit',\n",
              " 'session_start',\n",
              " 'form_start',\n",
              " 'form_submit',\n",
              " 'user_engagement']"
            ]
          },
          "metadata": {},
          "execution_count": 27
        }
      ]
    },
    {
      "cell_type": "code",
      "source": [
        "# Dictionary of dataframes\n",
        "event_params = {}\n",
        "\n",
        "for event in event_list:\n",
        "  event_params[event] = client.query('''\n",
        "    select\n",
        "      ep.key\n",
        "      , count(ep.value.string_value) as string_values\n",
        "      , count(ep.value.int_value) as int_values\n",
        "      , count(ep.value.float_value) as float_values\n",
        "      , count(ep.value.double_value) as double_values\n",
        "    from {sp}.{sd}.{st}\n",
        "    cross join\n",
        "      unnest(event_params) ep\n",
        "    where event_name = '{en}'\n",
        "    group by ep.key;\n",
        "    '''.format(sp=source_project, sd=source_dataset, st=source_table, en=event) ).to_dataframe()\n",
        "  event_params[event]['value_types'] = \"\"\n",
        "\n",
        "user_props = {}\n",
        "\n",
        "for event in event_list:\n",
        "  user_props[event] = client.query('''\n",
        "    select\n",
        "      up.key\n",
        "      , count(up.value.string_value) as string_values\n",
        "      , count(up.value.int_value) as int_values\n",
        "      , count(up.value.float_value) as float_values\n",
        "      , count(up.value.double_value) as double_values\n",
        "    from {sp}.{sd}.{st}\n",
        "    cross join\n",
        "      unnest(user_properties) up\n",
        "    where event_name = '{en}'\n",
        "    group by up.key;\n",
        "    '''.format(sp=source_project, sd=source_dataset, st=source_table, en=event) ).to_dataframe()\n",
        "  user_props[event]['value_types'] = \"\"\n",
        "\n"
      ],
      "metadata": {
        "id": "x49Xv4lXYHXa"
      },
      "execution_count": 28,
      "outputs": []
    },
    {
      "cell_type": "code",
      "source": [
        "event_params['first_visit'].key\n"
      ],
      "metadata": {
        "colab": {
          "base_uri": "https://localhost:8080/"
        },
        "id": "A6Orwdp_ntCx",
        "outputId": "edaef9f0-a81e-4117-df46-829d7d329903"
      },
      "execution_count": 29,
      "outputs": [
        {
          "output_type": "execute_result",
          "data": {
            "text/plain": [
              "0           form_length\n",
              "1         batch_page_id\n",
              "2       ignore_referrer\n",
              "3            page_title\n",
              "4         page_referrer\n",
              "5      form_destination\n",
              "6         page_location\n",
              "7     ga_session_number\n",
              "8       session_engaged\n",
              "9     batch_ordering_id\n",
              "10        ga_session_id\n",
              "Name: key, dtype: object"
            ]
          },
          "metadata": {},
          "execution_count": 29
        }
      ]
    },
    {
      "cell_type": "code",
      "source": [
        "# warn_params is a list of event and event parameter names that have more than\n",
        "# one type of value\n",
        "warn_params = []\n",
        "warn_props = []\n",
        "\n",
        "# List parameters that are found in most or all events\n",
        "param_set = set()\n",
        "parameter_occurrences = {}\n",
        "total_events = 0\n",
        "universal_params = []\n",
        "\n",
        "# List user properties\n",
        "prop_set = set()\n",
        "\n",
        "\n",
        "for event in event_list:\n",
        "  total_events += 1\n",
        "  for param in event_params[event].key:\n",
        "    for index, row in event_params[event].iterrows():\n",
        "      matched_params = []\n",
        "      if row['string_values'] > 0:\n",
        "        matched_params.append('string_value')\n",
        "      if row['int_values'] > 0:\n",
        "        matched_params.append('int_value')\n",
        "      if row['float_values'] > 0:\n",
        "        matched_params.append('float_value')\n",
        "      if row['double_values'] > 0:\n",
        "        matched_params.append('double_value')\n",
        "      if len(matched_params) > 1:\n",
        "        warn_params.append( event + \": \" + param.key )\n",
        "      event_params[event].loc[index, 'value_types'] = matched_params\n",
        "\n",
        "      param_set.add(row.key)\n",
        "      if row['key'] not in parameter_occurrences:\n",
        "        parameter_occurrences[row['key']] = 1\n",
        "      else:\n",
        "        parameter_occurrences[row['key']] += 1\n",
        "\n",
        "for param in param_set:\n",
        "  if parameter_occurrences[param] / total_events >  threshold:\n",
        "    universal_params.append(param)\n",
        "\n",
        "\n",
        "for event in event_list:\n",
        "  for param in user_props[event].key:\n",
        "    for index, row in user_props[event].iterrows():\n",
        "      matched_props = []\n",
        "      if row['string_values'] > 0:\n",
        "        matched_params.append('string_value')\n",
        "      if row['int_values'] > 0:\n",
        "        matched_params.append('int_value')\n",
        "      if row['float_values'] > 0:\n",
        "        matched_params.append('float_value')\n",
        "      if row['double_values'] > 0:\n",
        "        matched_params.append('double_value')\n",
        "      if len(matched_params) > 1:\n",
        "        warn_props.append( event + \": \" + param.key )\n",
        "      user_props[event].loc[index, 'value_types'] = matched_params\n",
        "\n",
        "      prop_set.add(row.key)\n"
      ],
      "metadata": {
        "id": "qkIxsY8rfcsQ"
      },
      "execution_count": 46,
      "outputs": []
    },
    {
      "cell_type": "code",
      "source": [
        "#\n",
        "\n",
        "if len(warn_params) > 0:\n",
        "  print( \"The following event parameters have more than one value type: \\n\" )\n",
        "  print(warn_params + '\\n\\n')\n",
        "\n",
        "print( \"The following event parameters appear in at least \" + format(threshold, \".0%\") + \" of events. Consider implementing these as default custom parameters. \\n\" )\n",
        "print( \"Please note that the parameters that are implemented by default in GA4 on all events, like page_location, are not removed from this list. \\n\" )\n",
        "print( \"You do not need to register default parameters. \\n\" )\n",
        "print(' '.join(universal_params) + '\\n\\n')\n",
        "\n",
        "print( \"These are the event parameters by event: \\n\" )\n",
        "for event in event_list:\n",
        "  print (event +'\\n')\n",
        "  print (event_params[event])\n",
        "  print ('\\n')\n",
        "\n",
        "if len(warn_props) > 0:\n",
        "  print( \"The following user properties have more than one value type: \\n\" )\n",
        "  print(warn_props + '\\n\\n')\n",
        "\n",
        "print( \"These are the user properties that appear in the data: \\n\" )\n",
        "print(user_props + '\\n\\n')\n",
        "\n",
        "\n"
      ],
      "metadata": {
        "colab": {
          "base_uri": "https://localhost:8080/",
          "height": 1000
        },
        "id": "NoEHBbNihR0g",
        "outputId": "fddb3f6f-ef27-404c-c54d-7124f69c4b35"
      },
      "execution_count": 48,
      "outputs": [
        {
          "output_type": "stream",
          "name": "stdout",
          "text": [
            "The following event parameters appear in at least 50% of events. Consider implementing these as default custom parameters. \n",
            "\n",
            "Please note that the parameters that are implemented by default in GA4 on all events, like page_location, are not removed from this list. \n",
            "\n",
            "You do not need to register these parameters. \n",
            "\n",
            "form_length batch_page_id ignore_referrer batch_ordering_id page_title form_destination ga_session_id engagement_time_msec page_referrer page_location ga_session_number session_engaged\n",
            "\n",
            "\n",
            "These are the event parameters by event: \n",
            "\n",
            "first_visit\n",
            "\n",
            "                  key  string_values  int_values  float_values  double_values  \\\n",
            "0         form_length              0           1             0              0   \n",
            "1       batch_page_id              0           1             0              0   \n",
            "2     ignore_referrer              1           0             0              0   \n",
            "3          page_title              1           0             0              0   \n",
            "4       page_referrer              1           0             0              0   \n",
            "5    form_destination              1           0             0              0   \n",
            "6       page_location              1           0             0              0   \n",
            "7   ga_session_number              0           1             0              0   \n",
            "8     session_engaged              1           0             0              0   \n",
            "9   batch_ordering_id              0           1             0              0   \n",
            "10      ga_session_id              0           1             0              0   \n",
            "\n",
            "       value_types  \n",
            "0      [int_value]  \n",
            "1      [int_value]  \n",
            "2   [string_value]  \n",
            "3   [string_value]  \n",
            "4   [string_value]  \n",
            "5   [string_value]  \n",
            "6   [string_value]  \n",
            "7      [int_value]  \n",
            "8   [string_value]  \n",
            "9      [int_value]  \n",
            "10     [int_value]  \n",
            "\n",
            "\n",
            "session_start\n",
            "\n",
            "                  key  string_values  int_values  float_values  double_values  \\\n",
            "0       batch_page_id              0           1             0              0   \n",
            "1       page_location              1           0             0              0   \n",
            "2     session_engaged              1           0             0              0   \n",
            "3       ga_session_id              0           1             0              0   \n",
            "4   batch_ordering_id              0           1             0              0   \n",
            "5     ignore_referrer              1           0             0              0   \n",
            "6       page_referrer              1           0             0              0   \n",
            "7   ga_session_number              0           1             0              0   \n",
            "8         form_length              0           1             0              0   \n",
            "9    form_destination              1           0             0              0   \n",
            "10         page_title              1           0             0              0   \n",
            "\n",
            "       value_types  \n",
            "0      [int_value]  \n",
            "1   [string_value]  \n",
            "2   [string_value]  \n",
            "3      [int_value]  \n",
            "4      [int_value]  \n",
            "5   [string_value]  \n",
            "6   [string_value]  \n",
            "7      [int_value]  \n",
            "8      [int_value]  \n",
            "9   [string_value]  \n",
            "10  [string_value]  \n",
            "\n",
            "\n",
            "form_start\n",
            "\n",
            "                  key  string_values  int_values  float_values  double_values  \\\n",
            "0     session_engaged              1           0             0              0   \n",
            "1       batch_page_id              0           1             0              0   \n",
            "2   batch_ordering_id              0           1             0              0   \n",
            "3         form_length              0           1             0              0   \n",
            "4       ga_session_id              0           1             0              0   \n",
            "5       page_location              1           0             0              0   \n",
            "6   ga_session_number              0           1             0              0   \n",
            "7          page_title              1           0             0              0   \n",
            "8    form_destination              1           0             0              0   \n",
            "9     ignore_referrer              1           0             0              0   \n",
            "10      page_referrer              1           0             0              0   \n",
            "\n",
            "       value_types  \n",
            "0   [string_value]  \n",
            "1      [int_value]  \n",
            "2      [int_value]  \n",
            "3      [int_value]  \n",
            "4      [int_value]  \n",
            "5   [string_value]  \n",
            "6      [int_value]  \n",
            "7   [string_value]  \n",
            "8   [string_value]  \n",
            "9   [string_value]  \n",
            "10  [string_value]  \n",
            "\n",
            "\n",
            "form_submit\n",
            "\n",
            "                     key  string_values  int_values  float_values  \\\n",
            "0          batch_page_id              0           1             0   \n",
            "1          page_location              1           0             0   \n",
            "2            form_length              0           1             0   \n",
            "3   engagement_time_msec              0           1             0   \n",
            "4       form_destination              1           0             0   \n",
            "5          ga_session_id              0           1             0   \n",
            "6      batch_ordering_id              0           1             0   \n",
            "7        ignore_referrer              1           0             0   \n",
            "8             page_title              1           0             0   \n",
            "9      ga_session_number              0           1             0   \n",
            "10       session_engaged              1           0             0   \n",
            "11         page_referrer              1           0             0   \n",
            "\n",
            "    double_values     value_types  \n",
            "0               0     [int_value]  \n",
            "1               0  [string_value]  \n",
            "2               0     [int_value]  \n",
            "3               0     [int_value]  \n",
            "4               0  [string_value]  \n",
            "5               0     [int_value]  \n",
            "6               0     [int_value]  \n",
            "7               0  [string_value]  \n",
            "8               0  [string_value]  \n",
            "9               0     [int_value]  \n",
            "10              0  [string_value]  \n",
            "11              0  [string_value]  \n",
            "\n",
            "\n",
            "user_engagement\n",
            "\n",
            "                    key  string_values  int_values  float_values  \\\n",
            "0         ga_session_id              0           1             0   \n",
            "1            page_title              1           0             0   \n",
            "2         batch_page_id              0           1             0   \n",
            "3       ignore_referrer              1           0             0   \n",
            "4         page_location              1           0             0   \n",
            "5     batch_ordering_id              0           1             0   \n",
            "6       session_engaged              1           0             0   \n",
            "7  engagement_time_msec              0           1             0   \n",
            "8         page_referrer              1           0             0   \n",
            "9     ga_session_number              0           1             0   \n",
            "\n",
            "   double_values     value_types  \n",
            "0              0     [int_value]  \n",
            "1              0  [string_value]  \n",
            "2              0     [int_value]  \n",
            "3              0  [string_value]  \n",
            "4              0  [string_value]  \n",
            "5              0     [int_value]  \n",
            "6              0  [string_value]  \n",
            "7              0     [int_value]  \n",
            "8              0  [string_value]  \n",
            "9              0     [int_value]  \n",
            "\n",
            "\n",
            "These are the user properties that appear in the data: \n",
            "\n"
          ]
        },
        {
          "output_type": "error",
          "ename": "TypeError",
          "evalue": "unsupported operand type(s) for +: 'dict' and 'str'",
          "traceback": [
            "\u001b[0;31m---------------------------------------------------------------------------\u001b[0m",
            "\u001b[0;31mTypeError\u001b[0m                                 Traceback (most recent call last)",
            "\u001b[0;32m<ipython-input-48-9a62030e0b1e>\u001b[0m in \u001b[0;36m<cell line: 23>\u001b[0;34m()\u001b[0m\n\u001b[1;32m     21\u001b[0m \u001b[0;34m\u001b[0m\u001b[0m\n\u001b[1;32m     22\u001b[0m \u001b[0mprint\u001b[0m\u001b[0;34m(\u001b[0m \u001b[0;34m\"These are the user properties that appear in the data: \\n\"\u001b[0m \u001b[0;34m)\u001b[0m\u001b[0;34m\u001b[0m\u001b[0;34m\u001b[0m\u001b[0m\n\u001b[0;32m---> 23\u001b[0;31m \u001b[0mprint\u001b[0m\u001b[0;34m(\u001b[0m\u001b[0muser_props\u001b[0m \u001b[0;34m+\u001b[0m \u001b[0;34m'\\n\\n'\u001b[0m\u001b[0;34m)\u001b[0m\u001b[0;34m\u001b[0m\u001b[0;34m\u001b[0m\u001b[0m\n\u001b[0m\u001b[1;32m     24\u001b[0m \u001b[0;34m\u001b[0m\u001b[0m\n\u001b[1;32m     25\u001b[0m \u001b[0;34m\u001b[0m\u001b[0m\n",
            "\u001b[0;31mTypeError\u001b[0m: unsupported operand type(s) for +: 'dict' and 'str'"
          ]
        }
      ]
    }
  ]
}